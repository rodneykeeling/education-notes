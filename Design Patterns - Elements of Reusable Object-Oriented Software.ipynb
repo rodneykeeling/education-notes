{
 "cells": [
  {
   "cell_type": "markdown",
   "metadata": {},
   "source": [
    "# Design Patterns (GoF)\n",
    "https://www.amazon.com/Design-Patterns-Elements-Reusable-Object-Oriented/dp/0201633612"
   ]
  },
  {
   "cell_type": "markdown",
   "metadata": {},
   "source": [
    "## Chapter 1 - Introduction\n",
    "\n",
    "> One thing expert designers know _not_ to do is solve every problem from first principles. Rather, they reuse solutions that have worked from them in the past. When they find a good solution, they use it again and again.\n",
    "\n",
    "An analogy of pattern reuse is where novelists and playwrights reuse plot patterns when writing: \"Tragically Flawed Hero\" or \"The Romantic Novel\". Once you know the pattern, a lot of design decisions follow automatically.\n",
    "\n",
    "Each design pattern: names, explains, and evaluates an important or recurring design in object-oriented systems.\n",
    "\n",
    "### 1.1 What Is A Design Pattern?\n",
    "\n",
    "In general, a pattern has four elements:\n",
    "1. The **pattern name**: a handle that refers to and describes a particular pattern. These allow us to think in a higher level of abstraction/\n",
    "2. The **problem**: describes when to apply the particular design pattern. It may often contain requirements that must be met to apply the particular pattern.\n",
    "3. The **solution**: describes the elements that make up the design, their relationships, responsibilities, and collaborations. Think of it as a reusable blueprint.\n",
    "4. The **consequences**: describe the results and trade-offs of using a particular pattern. They are critical for understanding the underlying cost of applying a design pattern to a problem.\n",
    "\n",
    "To answer the question of this sectionwhat is a design patternit is a description of communicating objects and classes that are customized to solve a general design problem in a particular context.\n",
    "\n",
    "The structure and intent of various programming languages can greatly determine which design patterns are crucial or irrelevant in that given language. e.g., CLOS has multi-methods, which lessens the need for the Visitor pattern.\n",
    "\n",
    "### 1.2 Design Patterns in Smalltalk MVC\n",
    "\n",
    "**Model**: the application object.\n",
    "**View**: the model's screen representation.\n",
    "**Controller**: defines the way the user interface reacts to user input.\n",
    "\n",
    "A view must ensure that its state reflects that of the model. Whenever the model's data changes, it must notify the views that depend on it.\n",
    "\n",
    "MVC supports nested views with the CompositeView class, which is a subclass of View.\n",
    "\n",
    "### 1.5 Organizing the Catalog\n",
    "\n",
    "We classify design patterns based on two criteria:\n",
    "1. **Purpose**: reflects what a pattern does. They can be:\n",
    "    1. **creational**: concern the process of creating objects.\n",
    "    2. **structural**: deal with the composition of classes or objects.\n",
    "    3. **behavioral**: characterize the ways in which classes or objects interact and distribute responsibility.\n",
    "2. **Scope**: specifies whether the pattern applies primarily to classes or objects.\n",
    "\n",
    "There are certainly other ways to organize these patternssome patterns may work together, e.g., Composite is often used with Iterator or Visitor. Some patterns are alternatives to others. etc.\n",
    "\n",
    "### 1.6 How Design Patterns Solve Design Problems\n",
    "\n",
    "(mostly general OOP terminology review)\n",
    "\n",
    "An **Abstract class** is a class whose main purpose is to specify a common interface for its subclasses. Hence, an abstract class cannot be instantiated. Classes that are not abstract are called **Concrete classes**.\n",
    "\n",
    "A **Mixin class** is a class that's intended to provide optional interface or functionality to other classes. It's similar to an abstract class in that it is not to be directly instantiated. Mixin classes require multiple inheritance. \n",
    "\n",
    "> Favor object composition over class inheritance.\n",
    "\n",
    "Ideally, you shouldn't have to create new components to achieve reuse. You should be able to assemble already-existing components through object composition. This is, however, often more rare in practice.\n",
    "\n",
    "**Delegation**: a way of making composition as powerful for reuse as inheritance. Two objects are involved in handling a request: a receiver object delegates operations to its delegate. This is analogous to subclasses deferring requests to parent classes. Several design patterns use delegation: **The State**, **Strategy**, and **Visitor** all use it.\n",
    "\n",
    "Another technique for code reusability is **parameterized types**, also known as **generics** and **templates** (depending on the language implementing parameterized types). Unspecified types are provided as parameters at the point of use.\n",
    "\n",
    "> To design a system so that it's robust to such changes, you must consider how the system might need to change over its lifetime. A design that doesn't take change into account risks major redesign in the future.\n",
    "\n",
    "### 1.7 How to Select a Design Pattern\n",
    "\n",
    "* Use this book.\n",
    "* Study how patterns interrelate.\n",
    "* Consider what should be variable in your design"
   ]
  },
  {
   "cell_type": "markdown",
   "metadata": {
    "collapsed": true
   },
   "source": [
    "## Chapter 2 - A Case Study\n",
    "\n",
    "**Recursive composition**: building increasingly complex elements out of simpler ones.\n",
    "\n"
   ]
  },
  {
   "cell_type": "markdown",
   "metadata": {},
   "source": [
    "## Chapter 3 - Creational Patterns\n",
    "\n",
    "Creational design patterns abstract the instantiation process.\n",
    "\n",
    "Class creational pattern: uses inheritance to vary the class that's instantiated.\n",
    "Object creational pattern: delegates instantiation to another object.\n",
    "\n",
    "### Abstract Factory\n",
    "\n",
    "**Intent**: Provide an interface for creating families of related or dependent objects without specifying their concrete classes.\n",
    "\n",
    "**Applicability**: Use the Abstract Factory pattern when:\n",
    "* a system should be independent of how its products are created, composed, and represented.\n",
    "* a system should be configured with one of multuiple families of products.\n",
    "* a family of related product ohjects is designed to be used together, and you need to enforce this constraint.\n",
    "* you want to provide a class library of products, and you want to reveal just their interfaces, not their implementations.\n",
    "\n",
    "**Consequences**:\n",
    "1. It isolates concrete classes. Clients use abstract interfaces instead of directly working with concrete classes.\n",
    "2. It makes exchanging product families easy.\n",
    "\n",
    "\n",
    "### Builder\n",
    "\n"
   ]
  },
  {
   "cell_type": "code",
   "execution_count": null,
   "metadata": {
    "collapsed": true
   },
   "outputs": [],
   "source": []
  },
  {
   "cell_type": "code",
   "execution_count": null,
   "metadata": {
    "collapsed": true
   },
   "outputs": [],
   "source": []
  },
  {
   "cell_type": "code",
   "execution_count": null,
   "metadata": {
    "collapsed": true
   },
   "outputs": [],
   "source": []
  },
  {
   "cell_type": "code",
   "execution_count": null,
   "metadata": {
    "collapsed": true
   },
   "outputs": [],
   "source": []
  },
  {
   "cell_type": "code",
   "execution_count": null,
   "metadata": {
    "collapsed": true
   },
   "outputs": [],
   "source": []
  },
  {
   "cell_type": "code",
   "execution_count": null,
   "metadata": {
    "collapsed": true
   },
   "outputs": [],
   "source": []
  },
  {
   "cell_type": "code",
   "execution_count": null,
   "metadata": {
    "collapsed": true
   },
   "outputs": [],
   "source": []
  },
  {
   "cell_type": "code",
   "execution_count": null,
   "metadata": {
    "collapsed": true
   },
   "outputs": [],
   "source": []
  }
 ],
 "metadata": {
  "kernelspec": {
   "display_name": "Python 3",
   "language": "python",
   "name": "python3"
  },
  "language_info": {
   "codemirror_mode": {
    "name": "ipython",
    "version": 3
   },
   "file_extension": ".py",
   "mimetype": "text/x-python",
   "name": "python",
   "nbconvert_exporter": "python",
   "pygments_lexer": "ipython3",
   "version": "3.5.0"
  }
 },
 "nbformat": 4,
 "nbformat_minor": 0
}
