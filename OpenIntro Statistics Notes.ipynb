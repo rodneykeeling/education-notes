{
 "cells": [
  {
   "cell_type": "markdown",
   "metadata": {
    "collapsed": true
   },
   "source": [
    "# OpenIntro Statistics Notes\n",
    "https://www.amazon.com/OpenIntro-Statistics-Third-David-Diez/dp/194345003X"
   ]
  },
  {
   "cell_type": "code",
   "execution_count": 63,
   "metadata": {
    "collapsed": false
   },
   "outputs": [
    {
     "data": {
      "text/html": [
       "<style>\n",
       "table {float:left}\n",
       "</style>"
      ],
      "text/plain": [
       "<IPython.core.display.HTML object>"
      ]
     },
     "metadata": {},
     "output_type": "display_data"
    }
   ],
   "source": [
    "%%html\n",
    "<style>\n",
    "table {float:left}\n",
    "</style>"
   ]
  },
  {
   "cell_type": "code",
   "execution_count": 62,
   "metadata": {
    "collapsed": false
   },
   "outputs": [],
   "source": [
    "%matplotlib inline\n",
    "\n",
    "import numpy as np\n",
    "import matplotlib.pyplot as plt\n",
    "import seaborn as sns"
   ]
  },
  {
   "cell_type": "markdown",
   "metadata": {},
   "source": [
    "## Frequently used characters\n",
    "\n",
    "| symbol | definition |\n",
    "|--------|------------|\n",
    "| μ | population mean |\n",
    "| σ<sup>2</sup> | population variance |\n",
    "| σ | standard deviation |\n",
    "| x̅ | sample mean |\n",
    "| s<sup>2</sup> | sample variance |\n",
    "| s | sample standard deviation |"
   ]
  },
  {
   "cell_type": "markdown",
   "metadata": {},
   "source": [
    "## Chapter 1 - Introduction"
   ]
  },
  {
   "cell_type": "markdown",
   "metadata": {},
   "source": [
    "### Definitions\n",
    "**Confounding Variable**: a variable which is correlated with both explanatory and response variables. e.g., `gender`[1] in a test to determine if a `drug`[2] leads to `recovery`[3].\n",
    "\n",
    "1: confounding variable    \n",
    "2: explanatory variable    \n",
    "3: response variable    \n",
    "\n",
    "#### Sampling Methods\n",
    "\n",
    "**Simple random sampling**: Lottery-style random sampling.    \n",
    "**Stratified random sampling**: Population is divided into groups/strata based on similar characteristics, then randomly sampled from each strata.    \n",
    "**Clustered random sampling**: Population is divided into many groups/clusters, then we choose a fixed number of clusters and use all samples from those selected clusters.    \n",
    "**Multistage random sampling**: Like clustered random sampling, but choose samples at random from clusters instead of using all samples from selected clusters.\n",
    "\n",
    "**Point Estimate**: A sample value used to estimate that respective value for the entire population. e.g., the sample mean is a point estimate of the population mean.\n",
    "\n",
    "**Standard Deviation**: A description of how far away a typical observation is from the mean. Useful when considering how close the data are to the mean.\n",
    "**Variance**: The squared value of the standard deviation. The averaged square distance from the mean."
   ]
  },
  {
   "cell_type": "markdown",
   "metadata": {},
   "source": [
    "### Notes\n",
    "\n",
    "* The median and IQR are called **robust estimates** because outliers have little effect on their values. The mean and standard deviation are much more affected by outliers."
   ]
  },
  {
   "cell_type": "markdown",
   "metadata": {},
   "source": [
    "## Chapter 2 - Probability"
   ]
  },
  {
   "cell_type": "markdown",
   "metadata": {},
   "source": [
    "### Definitions\n",
    "\n",
    "**Probability**: The proportion of times the outcome would occur if we observed the random process an infinite number of times.    \n",
    "**Law of Large Numbers**: As more observations are collected, the proportion of occurences with a particular outcome converges to the probability of that outcome.    \n",
    "**Probability Distribution**: A table of all disjoint outcomes and their associated probabilities:    \n",
    "\n",
    "| Dice Sum | Probability |\n",
    "|----------|-------------|\n",
    "| 2 | 1/36 |\n",
    "| 3 | 2/36 |\n",
    "| 4 | 3/36 |\n",
    "| 5 | 4/36 |\n",
    "| 6 | 5/36 |\n",
    "| 7 | 6/36 |\n",
    "| 8 | 5/36 |\n",
    "| 9 | 4/36 |\n",
    "| 10 | 3/36 |\n",
    "| 11 | 2/36 |\n",
    "| 12 | 1/36 |\n",
    "\n",
    "**Sample Space**: The set of all possible outcomes of an event"
   ]
  },
  {
   "cell_type": "markdown",
   "metadata": {},
   "source": [
    "### Notes\n",
    "\n",
    "* The probability that one of `k` multiple disjoint/mutually exclusive events `Ak` occur is `P(A1)+P(A2)+...+P(Ak)`\n",
    "  - e.g., Probability of rolling a 1 or 2 on a die => `P(1 or 2) = P(1) + P(2) = 1/6 + 1/6 = 1/3`\n",
    "\n",
    "* If `A` and `B` are any two events, disjoint or not, then the probability that at least one of them will occur is:    \n",
    "`P(A or B) = P(A) + P(B) - P(A and B)`\n",
    "\n",
    "* The **Complement** of a sample space `D` is the set of all outcomes not in `D`. Denoted `D`<sup>`c`</sup>    \n",
    "\n",
    "* If `A` and `B` represent events from independent processes, then the probability that both events will occur is: `P(A and B) = P(A) x P(B)`\n",
    "\n",
    "* A probability based on a single variable is called a **Marginal Probability**. e.g., `P(teen went to college)`\n",
    "\n",
    "* A probability based on more than one variables is called a **Joint Probability**. e.g, `P(teen went to college and parent not)`\n",
    "\n",
    "#### Conditional Probability\n",
    "* The conditional probability of the outcome of interest A given condition B is:    \n",
    "$$ P(A|B) = \\frac{P(A and B)}{P(B)} $$\n",
    "\n",
    "#### Random Variables\n",
    "* A variable or process with a numerical outcome. Usually denoted by a capital letter (X, Y, Z). e.g., the amount a single student will spend on textbooks.\n",
    "\n",
    "* The **Expected Outcome** E(X) or μ of a random variable is the sum of all outputs multiplied by their probabilities:\n",
    "$$ E(X) = μ = \\sum_{i=1}^k x_i P(X=x_i) $$\n",
    "\n",
    "#### Continuous Distributions\n",
    "* A **Probability Density Function** is a curve that represents where outcomes of events are likely to occur. In other words, it's a fine-grain histogram of probabilities. The area under a PDF is equal to 1."
   ]
  },
  {
   "cell_type": "markdown",
   "metadata": {},
   "source": [
    "## Chapter 3 - Distributions of random variables"
   ]
  },
  {
   "cell_type": "markdown",
   "metadata": {},
   "source": [
    "### Definitions"
   ]
  },
  {
   "cell_type": "markdown",
   "metadata": {},
   "source": [
    "### Notes\n",
    "\n",
    "#### Normal Distribution\n",
    "* Symmetric, unimodal, bell-shaped curve"
   ]
  },
  {
   "cell_type": "code",
   "execution_count": 35,
   "metadata": {
    "collapsed": false
   },
   "outputs": [
    {
     "data": {
      "text/plain": [
       "<matplotlib.axes._subplots.AxesSubplot at 0x121f878d0>"
      ]
     },
     "execution_count": 35,
     "metadata": {},
     "output_type": "execute_result"
    },
    {
     "data": {
      "image/png": "[encoded data removed]",
      "text/plain": [
       "<matplotlib.figure.Figure at 0x12201c908>"
      ]
     },
     "metadata": {},
     "output_type": "display_data"
    }
   ],
   "source": [
    "# Normal Distribution\n",
    "sns.set(rc={\"figure.figsize\": (9, 4)})\n",
    "mu, sigma = 0, 1\n",
    "x = np.random.normal(mu, sigma, 10000)\n",
    "sns.distplot(x)"
   ]
  },
  {
   "cell_type": "markdown",
   "metadata": {},
   "source": [
    "#### Z-scores\n",
    "* The **Z-score** of an observation is the number of standard deviations it lies from the mean. e.g., if a data point / observation is 1 standard deviation above the mean, its z-score is +1.\n",
    "$$ Z = \\frac{x - μ}{σ} $$"
   ]
  },
  {
   "cell_type": "markdown",
   "metadata": {},
   "source": [
    "#### Geometric Distribution\n",
    "* When an individual trial only has two possible outcomes, it is called a **Bernoulli random variable**. i.e., `success` or `failure`.\n",
    "* If you label a `success` as `p` and a `failure` as `q`, then X is a Bernoulli random variable with mean $ μ = p $ and standard deviation $ σ = \\sqrt{p(1-p)} $.    \n",
    "* **Geometric Distribution**:\n",
    "  * A distribution that describes the waiting time until a `success` for **independent and identically distributed (iid)** Bernoulli random variables. i.e., `P(nth trial is success) = P(all n-1th trials are failures)`.\n",
    "  * The probability of finding the first `success` in the `nth` trial is given by: $ (1-p)^{n-1}p $\n",
    "  * $ μ = \\frac{1}{p} $\n",
    "  * $ σ^2 = \\frac{1-p}{p^2} $\n",
    "  * $ σ = \\sqrt{\\frac{1-p}{p^2}} $"
   ]
  },
  {
   "cell_type": "code",
   "execution_count": 47,
   "metadata": {
    "collapsed": false
   },
   "outputs": [
    {
     "data": {
      "text/plain": [
       "<matplotlib.axes._subplots.AxesSubplot at 0x122b9dd30>"
      ]
     },
     "execution_count": 47,
     "metadata": {},
     "output_type": "execute_result"
    },
    {
     "data": {
      "image/png": "[encoded data removed]",
      "text/plain": [
       "<matplotlib.figure.Figure at 0x123040d68>"
      ]
     },
     "metadata": {},
     "output_type": "display_data"
    }
   ],
   "source": [
    "# Geometric Distribution\n",
    "x = np.random.geometric(p=0.5, size=5000)\n",
    "sns.distplot(x)"
   ]
  },
  {
   "cell_type": "markdown",
   "metadata": {},
   "source": [
    "#### Binomial Distribution\n",
    "* If the probability of a single `success` trial is `p`, then the probability of observing `k` successes in `n` independent trials is $ { n \\choose k}p^k(1-p)^{n-k} = \\frac{n!}{k!(n-k)!}p^k(1-p)^{n-k} $\n",
    "* $ μ = np $\n",
    "* $ σ^2 = np(1-p) $\n",
    "* $ σ = \\sqrt{np(1-p)} $"
   ]
  },
  {
   "cell_type": "code",
   "execution_count": 52,
   "metadata": {
    "collapsed": false
   },
   "outputs": [
    {
     "data": {
      "text/plain": [
       "<matplotlib.axes._subplots.AxesSubplot at 0x1236aa5c0>"
      ]
     },
     "execution_count": 52,
     "metadata": {},
     "output_type": "execute_result"
    },
    {
     "data": {
      "image/png": "[encoded data removed]",
      "text/plain": [
       "<matplotlib.figure.Figure at 0x1237d0b00>"
      ]
     },
     "metadata": {},
     "output_type": "display_data"
    }
   ],
   "source": [
    "# Binomial Distribution\n",
    "x = np.random.binomial(n=10, p=0.5, size=5000)\n",
    "sns.distplot(x)"
   ]
  },
  {
   "cell_type": "markdown",
   "metadata": {},
   "source": [
    "#### Poisson Distribution\n",
    "* Useful for estimating the number of events in a large population over a unit of time.\n",
    "* The **rate** `λ` for a Poisson Distribution is the average number of occurences in a mostly fixed population per unit of time.\n",
    "* `P(observe k events) =` $ \\frac{λ^ke^{-λ}}{k!} $ where `k ∈ Z`\n",
    "* $ μ = λ $\n",
    "* $ σ^2 = λ $\n",
    "* $ σ = \\sqrt{λ} $"
   ]
  },
  {
   "cell_type": "code",
   "execution_count": 54,
   "metadata": {
    "collapsed": false
   },
   "outputs": [
    {
     "data": {
      "text/plain": [
       "<matplotlib.axes._subplots.AxesSubplot at 0x11cdc8cf8>"
      ]
     },
     "execution_count": 54,
     "metadata": {},
     "output_type": "execute_result"
    },
    {
     "data": {
      "image/png": "[encoded data removed]",
      "text/plain": [
       "<matplotlib.figure.Figure at 0x123ad77b8>"
      ]
     },
     "metadata": {},
     "output_type": "display_data"
    }
   ],
   "source": [
    "# Poisson Distribution\n",
    "x = np.random.poisson(5, size=10000)\n",
    "sns.distplot(x)"
   ]
  },
  {
   "cell_type": "markdown",
   "metadata": {},
   "source": [
    "## Chapter 4 - Foundations for inference"
   ]
  },
  {
   "cell_type": "markdown",
   "metadata": {},
   "source": [
    "### Notes"
   ]
  },
  {
   "cell_type": "markdown",
   "metadata": {},
   "source": [
    "* Statistical inference is concerned primarily with understanding the quality of parameter estimates. e.g., how certain are we that the estimated mean x̅ is near the population mean μ?\n",
    "\n",
    "#### Sampling Distribution\n",
    "* Take a sample of size `n` from a population `m` times and create a distribution of means. e.g., assume a large population; take a sample of 100 students and find their mean height; do this 1000 times and create a histogram/distribution chart.\n",
    "* The standard deviation of this distribution describes the typical error of the point estimate means, and we call this standard deviation the **standard error (SE)** of the estimate.\n",
    "* You can find the standard error from just a single point estimate, however, with $ SE_\\overline{x} = σ_\\overline{x} = \\frac{σ}{\\sqrt{n}} \\approx \\frac{s}{\\sqrt{n}} $"
   ]
  },
  {
   "cell_type": "markdown",
   "metadata": {},
   "source": [
    "#### Confidence Intervals\n",
    "* Point estimates are cool, but they usually have an error to them. We can get a better idea of an estimate by finding a _range of values_ instead of just a point.\n",
    "* A plausible range of values for the population parameter is called a **confidence interval**.\n",
    "* \"The standard error represents the standard deviation associated with the estimate, and roughly 95% of the time the estimate will be within 2 standard errors of the population parameter. If the interval spreads out 2 standard errors from the point estimate, we can be roughly 95% **confident** that we have captured the true parameter: `point estimate ± 2 * SE`\"\n",
    "* Correct interpretation of a CI: \"We are XX% sure that the population parameter is between ...\"\n",
    "* Incorrect interpretation of a CI: \"We have found the population parameter with a certain probability XX%\""
   ]
  },
  {
   "cell_type": "markdown",
   "metadata": {},
   "source": [
    "#### Hypothesis Testing\n",
    "* **Null Hypothesis $ (H_0) $**: Often represents a skeptical position or a perspective of no difference.\n",
    "* **Alternative Hypothesis $ (H_A) $ **: Often represents a new perspective, such as the possibility that there has been a change.\n",
    "* tl;dr the skeptic will not reject the null hypothesis unless the evidence in favor of the alternative hypothesis is very strong\n",
    "* Even if we fail to reject the null hypothesis, we typically do not accept the null hypothesis as true.\n",
    "* We call the value of the null hypothesis the **null value**.\n"
   ]
  },
  {
   "cell_type": "code",
   "execution_count": null,
   "metadata": {
    "collapsed": true
   },
   "outputs": [],
   "source": []
  }
 ],
 "metadata": {
  "kernelspec": {
   "display_name": "Python 3",
   "language": "python",
   "name": "python3"
  },
  "language_info": {
   "codemirror_mode": {
    "name": "ipython",
    "version": 3
   },
   "file_extension": ".py",
   "mimetype": "text/x-python",
   "name": "python",
   "nbconvert_exporter": "python",
   "pygments_lexer": "ipython3",
   "version": "3.5.0"
  }
 },
 "nbformat": 4,
 "nbformat_minor": 0
}
