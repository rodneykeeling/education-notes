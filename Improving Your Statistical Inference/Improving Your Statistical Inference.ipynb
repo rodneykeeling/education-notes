{
 "cells": [
  {
   "cell_type": "markdown",
   "metadata": {},
   "source": [
    "# Improving Your Statistical Inferences\n",
    "https://www.coursera.org/learn/statistical-inferences"
   ]
  },
  {
   "cell_type": "markdown",
   "metadata": {},
   "source": [
    "## Week 1 - Introduction + Frequentist Statistics\n",
    "\n",
    "### What is a p-value?\n",
    "\"p-values tell you how _surprising_ the data is, assuming there is no effect.\"\n",
    "\n",
    "* **p-value**: the probability of getting the observed or more extreme data, assuming the null hypothesis is true.\n",
    "\n",
    "* After you find a p-value _p < 0.05_, the effect is not 95% likely to be true (this is a common misconception).\n",
    "\n",
    "* You cannot get the probability the null hypothesis is true, given the data, from a p-value. (you need Bayesian statistics for this)\n",
    "\n",
    "* Getting a p-value > 0.05 does not necessarily mean there is _no_ effect. There _could_ be an effect, but this specific data (usually a sample of a population) shows no effect.\n",
    "\n",
    "* A p-value is representative of the data, not necessarily of the theory.\n",
    "\n",
    "### Type 1 and Type 2 Errors\n",
    "* **Type 1 error**: $\\alpha$, the probability of a significant result finding when $H_0$ is true.\n",
    "* **Type 2 error**: $\\beta$, the probability of a non-significant result, given that $H_1$ is true.\n",
    "* **Statistical Power**: $1-\\beta$, the probability of a significant result when $H_1$ is true.\n",
    "\n",
    "\n",
    "| | $H_0$ true | $H_1$ true |\n",
    "|-|------------|------------|\n",
    "| Significant finding | False positive ($\\alpha$) | True positive ($1-\\beta$) |\n",
    "| Non-significant finding | True negative ($1-\\alpha$) | False negative ($\\beta$) |\n",
    "\n",
    "http://rpsychologist.com/d3/NHST/\n",
    "\n",
    "https://www.coursera.org/learn/statistical-inferences/supplement/jvAYS/assignment-1-which-p-values-can-you-expect"
   ]
  },
  {
   "cell_type": "code",
   "execution_count": null,
   "metadata": {
    "collapsed": true
   },
   "outputs": [],
   "source": []
  }
 ],
 "metadata": {
  "kernelspec": {
   "display_name": "Python 3",
   "language": "python",
   "name": "python3"
  },
  "language_info": {
   "codemirror_mode": {
    "name": "ipython",
    "version": 3
   },
   "file_extension": ".py",
   "mimetype": "text/x-python",
   "name": "python",
   "nbconvert_exporter": "python",
   "pygments_lexer": "ipython3",
   "version": "3.5.0"
  }
 },
 "nbformat": 4,
 "nbformat_minor": 0
}
