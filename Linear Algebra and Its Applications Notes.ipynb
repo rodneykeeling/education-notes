{
 "cells": [
  {
   "cell_type": "markdown",
   "metadata": {},
   "source": [
    "# Linear Algebra and Its Applications Notes\n",
    "https://www.amazon.com/gp/product/1292092238"
   ]
  },
  {
   "cell_type": "code",
   "execution_count": 1,
   "metadata": {
    "collapsed": false
   },
   "outputs": [
    {
     "data": {
      "text/html": [
       "<style>\n",
       "table {float:left}\n",
       "</style>"
      ],
      "text/plain": [
       "<IPython.core.display.HTML object>"
      ]
     },
     "metadata": {},
     "output_type": "display_data"
    }
   ],
   "source": [
    "%%html\n",
    "<style>\n",
    "table {float:left}\n",
    "</style>"
   ]
  },
  {
   "cell_type": "code",
   "execution_count": 14,
   "metadata": {
    "collapsed": true
   },
   "outputs": [],
   "source": [
    "%matplotlib inline\n",
    "import numpy as np"
   ]
  },
  {
   "cell_type": "markdown",
   "metadata": {
    "collapsed": true
   },
   "source": [
    "## Chapter 1 - Linear Equations in Linear Algebra"
   ]
  },
  {
   "cell_type": "markdown",
   "metadata": {},
   "source": [
    "### Notes\n",
    "#### Systems of Linear Equations\n",
    "\n",
    "* A **linear equation** can be written in the form $a_1x_1 + a_2x_2 + ... + a_nx_n = b$\n",
    "  * where `b` and the coefficients $a_1, ..., a_n$ are real or complex numbers, usually known in advance.\n",
    "  * `n` is any positive integer\n",
    "* Although the following doesn't initially fit the linear equation form, it can be algebraically manipulated to fit the form: \n",
    "  * $ x_2 = 2(\\sqrt{6}-x_1) + x_3 $ => $ 2x_1 + x_2 - x_3 = 2\\sqrt{6} $\n",
    "* A **system of linear equations** (or a **linear system**) is a collection of one or more linear equations involving the same variables ($x_1, ..., x_n$).\n",
    "* A **solution** of the system is a list ($s_1, s_2, ..., s_n$) of numbers that make each equation a true statement when the values ($s_1, s_2, ..., s_n$) are plugged into $x_1, x_2, ..., x_n$ respectively. \n",
    "* The set of all possible solutions is called the **solution set** of the linear system. Two linear systems are called **equivalent** if they have the same solution set.\n",
    "\n",
    "#### Matrix Notation\n",
    "* Given this system of linear equations:\n",
    "  * $ x_1 - 2x_2 + x_3 = 0 $\n",
    "  * $ 2x_2 - 8x_3 = 8 $\n",
    "  * $ 5x_1 - 5x_3 = 10 $\n",
    "* The **coefficient matrix** (or **matrix of coefficients**) of that system is:\n",
    "  * $\\begin{bmatrix}1 & -2 & 1\\\\0 & 2 & -8\\\\5 & 0 & -5\\end{bmatrix}$\n",
    "* The **augmented matrix** of that system includes the RHS of the equations:\n",
    "  * $\\begin{bmatrix}1 & -2 & 1 & 0\\\\0 & 2 & -8 & 8\\\\5 & 0 & -5 & 10\\end{bmatrix}$\n",
    "* The **size** of a matrix tells its dimensions; if `m` and `n` are positive integers, an **`m x n` matrix** is a matrix with `m` rows and `n` columns.\n",
    "* Solving a linear system involves a few steps:\n",
    "  1. use the $x_1$ term in the first equation to eliminate the $x_1$ terms in the other equations.\n",
    "  2. Then use $x_2$ in the second equation to eliminate the other $x_2$s.\n",
    "  3. Repeat until you obtain a very simple equivalent system of equations.\n",
    "* Or use Python!\n",
    "  * for example:\n",
    "    * $a = \\begin{bmatrix}3 & 1\\\\1 & 2\\end{bmatrix}$\n",
    "    * $b = \\begin{bmatrix}9 & 8\\end{bmatrix}$"
   ]
  },
  {
   "cell_type": "code",
   "execution_count": 10,
   "metadata": {
    "collapsed": false
   },
   "outputs": [
    {
     "name": "stdout",
     "output_type": "stream",
     "text": [
      "x1=2.0, x2=3.0\n"
     ]
    },
    {
     "data": {
      "text/plain": [
       "True"
      ]
     },
     "execution_count": 10,
     "metadata": {},
     "output_type": "execute_result"
    }
   ],
   "source": [
    "# 3x1 + x2 = 9 and x1 + 2x2 = 8\n",
    "a = np.array([[3,1], [1,2]])\n",
    "b = np.array([9,8])\n",
    "x = np.linalg.solve(a, b)\n",
    "\n",
    "print('x1={}, x2={}'.format(x[0], x[1]))\n",
    "\n",
    "# check answer\n",
    "np.allclose(np.dot(a, x), b)"
   ]
  },
  {
   "cell_type": "markdown",
   "metadata": {},
   "source": [
    "#### Row Reduction and Echelon Forms\n",
    "* A **leading entry** of a row refers to the leftmost nonzero entry (of a nonzero row).\n",
    "* A matrix is in **echelon form** if it has the following three properties:\n",
    "  1. All nonzero rows are above any rows of all zeros.\n",
    "  2. Each leading entry of a row is in a column to the right of the leady entry of the row above it.\n",
    "  3. All entries in a column below a leading entry are zeros.\n",
    "* An echelon matrix is also in **reduced** form if:\n",
    "  4. The leading entry in each nonzero row is 1.\n",
    "  5. Each leading 1 is the only nonzero entry in its column.\n",
    "* An **echelon matrix** (or **reduced echelon matrix**) is one that is in echelon form (or reduced echelon form).\n",
    "* Example echelon matrix:\n",
    "  * $ \\begin{bmatrix}2 & -3 & 2 & 1\\\\0 & 1 & -4 & 8\\\\0 & 0 & 0 & \\frac{5}{2}\\end{bmatrix} $\n",
    "* Example reduced echelon matrix:\n",
    "  * $ \\begin{bmatrix}1 & 0 & 0 & 29\\\\0 & 1 & 0 & 16\\\\0 & 0 & 1 & 3\\end{bmatrix} $\n",
    "\n",
    "#### Vector Equations\n",
    "* A matrix with only one column is called a **column vector** or just **vector**.\n",
    "  * $ u = \\begin{bmatrix}3\\\\-1\\end{bmatrix} $\n",
    "* The set of all vectors with 2 entries is denoted by $\\Bbb R^2$\n",
    "* If $v_1, ..., v_p$ are in $\\Bbb R^n$, then the set of all linear combinations of $v_1, ..., v_p$ is denoted by Span{$v_1,...,v_p$} and is called the **subset of $\\Bbb R^n$ spanned by $v_1, ..., v_p$**.\n",
    "  * i.e., Span{$v_1,...,v_p$} is the collection of all vectors that can be written in the form $c_1v_1 + c_2v_2 + ... + c_pv_p$ with $c_1,...,c_p$ scalars.\n",
    "* Asking whether a vector `b` is in Span{$v_1,...,v_p$} amounts to asking whether the vector equation, $x_1v_1 + x_2v_2,...,x_pv_p = b$ has a solution.\n",
    "\n",
    "#### The Matrix Equation Ax=b\n",
    "* If `A` is an `m x n` matrix with columns $a_1,...,a_n$ and if `x` is in $\\Bbb R^n$, then the product of `A` and `x` is the linear combination of the columns of `A` using the corresponding entries in `x` as weights:\n",
    "  * $ Ax = \\begin{bmatrix}a_1 & a_2 & \\text{...} & a_n\\end{bmatrix} * \\begin{bmatrix} x_1\\\\\\text{...}\\\\x_n\\end{bmatrix} = x_1a_1 + x_2a_2 + ... + x_na_n $\n",
    "* The equation `Ax = b` has a solution if and only if `b` is a linear combination of the columns of `A`.\n",
    "\n",
    "#### Solution Sets of Linear Systems\n",
    "* A system of linear equations is said to be **homogeneous** if it can be written in the form `Ax = 0` where `0` is the zero vector in $ \\Bbb R^m $.\n",
    "  * This zero solution (`Ax = 0`) is called the **trivial solution**. \n",
    "  * The important question generally is if there exists a **nontrivial solution**, i.e., a nonzero vector `x` that statisfies `Ax = 0`.\n",
    "* The homogeneous equation `Ax = 0` has a nontrivial solution if and only if the equation has at least one free variable.\n",
    "\n",
    "#### Linear Independence\n",
    "* **Linear independence**: A set of vectors {$v_1,...v_p$} in $\\Bbb R^n$ is linearly independent if the vector equation $ x_1v_1 + x_2v_2 + ... + x_pv_p = 0 $ has only the trivial solution.\n",
    "* **Linear dependence**: The set of vectors {$v_1,...v_p$} is linearly dependent if there exists weights $c_1,...,c_p$, not all zero, such that $ c_1v_1 + c_2v_2 + ... + c_pv_p = 0 $"
   ]
  },
  {
   "cell_type": "markdown",
   "metadata": {},
   "source": [
    "## Chapter 2 - Matrix Algebra"
   ]
  },
  {
   "cell_type": "markdown",
   "metadata": {},
   "source": [
    "### Notes\n",
    "\n",
    "####"
   ]
  },
  {
   "cell_type": "code",
   "execution_count": null,
   "metadata": {
    "collapsed": true
   },
   "outputs": [],
   "source": []
  }
 ],
 "metadata": {
  "kernelspec": {
   "display_name": "Python 3",
   "language": "python",
   "name": "python3"
  },
  "language_info": {
   "codemirror_mode": {
    "name": "ipython",
    "version": 3
   },
   "file_extension": ".py",
   "mimetype": "text/x-python",
   "name": "python",
   "nbconvert_exporter": "python",
   "pygments_lexer": "ipython3",
   "version": "3.5.0"
  }
 },
 "nbformat": 4,
 "nbformat_minor": 0
}
